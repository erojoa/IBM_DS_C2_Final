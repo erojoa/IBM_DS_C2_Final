{
 "cells": [
  {
   "cell_type": "markdown",
   "id": "386bf7c7-1813-4973-b849-5b8215b4d7dc",
   "metadata": {},
   "source": [
    "# Data Science Tools and Ecosystem"
   ]
  },
  {
   "cell_type": "markdown",
   "id": "b34cfff1-b7ba-49e9-9df8-17928c0b0670",
   "metadata": {},
   "source": [
    "In this notebook, Data Science Tools and Ecosystem are summarized."
   ]
  },
  {
   "cell_type": "markdown",
   "id": "3700be46-3270-470b-8822-dbeb3c14eece",
   "metadata": {},
   "source": [
    "**Objectives:**\n",
    "List popular languages for Data Science\n",
    "* Python\n",
    "* R\n",
    "* Scala\n",
    "* Julia\n",
    "* Java\n",
    "* JavaScript"
   ]
  },
  {
   "cell_type": "markdown",
   "id": "c1876fa5-98e9-4ab7-ae79-44975eb96f25",
   "metadata": {},
   "source": [
    "Some of the popular languages that Data Scientists use are:\n",
    "1. R\n",
    "2. Python\n",
    "3. Scala"
   ]
  },
  {
   "cell_type": "markdown",
   "id": "9961634e-d722-4c6e-9481-bc575ef5fafd",
   "metadata": {},
   "source": [
    "Some of the commonly used libraries used by Data Scientists include:\n",
    "1. pandas\n",
    "2. matplotlib\n",
    "3. plotly"
   ]
  },
  {
   "cell_type": "markdown",
   "id": "ba58b68b-58c4-4e15-ba10-d76b4ac558bf",
   "metadata": {},
   "source": [
    "| Data Science Tools |\n",
    "| --- |\n",
    "| VS Code |\n",
    "| Gitlab |\n",
    "| PyCharm |"
   ]
  },
  {
   "cell_type": "markdown",
   "id": "37626ec3-6727-4d55-aa35-9a6f38bf5dec",
   "metadata": {},
   "source": [
    "Below are a few examples of evaluating arithmetic expressions in Python."
   ]
  },
  {
   "cell_type": "markdown",
   "id": "99ad8ded-4339-443f-a5c2-ef2e62b2b07d",
   "metadata": {},
   "source": [
    "This a simple arithmetic expression to mutiply then add integers."
   ]
  },
  {
   "cell_type": "code",
   "execution_count": 12,
   "id": "7893b087-722f-4944-b31c-618c76caa3fc",
   "metadata": {},
   "outputs": [
    {
     "data": {
      "text/plain": [
       "17"
      ]
     },
     "execution_count": 12,
     "metadata": {},
     "output_type": "execute_result"
    }
   ],
   "source": [
    "(3*4)+5"
   ]
  },
  {
   "cell_type": "markdown",
   "id": "971e2049-265e-4707-864e-692bb88c1f89",
   "metadata": {},
   "source": [
    "This will convert 200 minutes to hours by diving by 60."
   ]
  },
  {
   "cell_type": "code",
   "execution_count": 16,
   "id": "1720f15b-a80f-44fd-b6e8-08e2aa02433f",
   "metadata": {},
   "outputs": [
    {
     "data": {
      "text/plain": [
       "3.3333333333333335"
      ]
     },
     "execution_count": 16,
     "metadata": {},
     "output_type": "execute_result"
    }
   ],
   "source": [
    "200/60"
   ]
  },
  {
   "cell_type": "markdown",
   "id": "c4842999-2d98-4535-a829-5534d9962612",
   "metadata": {},
   "source": [
    "## Author\n",
    "Eduardo Rojo"
   ]
  }
 ],
 "metadata": {
  "kernelspec": {
   "display_name": "Python 3 (ipykernel)",
   "language": "python",
   "name": "python3"
  },
  "language_info": {
   "codemirror_mode": {
    "name": "ipython",
    "version": 3
   },
   "file_extension": ".py",
   "mimetype": "text/x-python",
   "name": "python",
   "nbconvert_exporter": "python",
   "pygments_lexer": "ipython3",
   "version": "3.10.15"
  }
 },
 "nbformat": 4,
 "nbformat_minor": 5
}
